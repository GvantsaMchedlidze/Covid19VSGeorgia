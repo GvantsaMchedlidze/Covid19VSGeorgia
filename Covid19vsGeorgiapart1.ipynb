{
 "cells": [
  {
   "cell_type": "markdown",
   "metadata": {},
   "source": [
    "# Covid19 vs Georgia"
   ]
  },
  {
   "cell_type": "markdown",
   "metadata": {},
   "source": [
    "Covid 19 is the most talked about thing nowadays. Several days ago the Forbes published an article with name: “The 100 Safest Countries In The World For COVID-19”, https://www.forbes.com/sites/johnkoetsier/2020/06/05/the-100-safest-countries-in-the-world-for-covid-19/#588a232168c5.\n",
    "In this list Georgia was in 39th place. Surely except Covid19 statistics there are other factors that made modifications in this list but with only virus data I want to response several questions.\n",
    "1. What is the current status of Georgia against Covid19?\n",
    "2. How the statistics was changing during time?\n",
    "3. Compare situation to some other countries which have better position in the Forbes list and they are either neighbor or have comparable population.\n",
    "\n",
    "The data is taken from github and WHO. "
   ]
  },
  {
   "cell_type": "code",
   "execution_count": 1,
   "metadata": {},
   "outputs": [],
   "source": [
    "import requests\n",
    "import lxml.html as lh\n",
    "import pandas as pd\n",
    "import warnings\n",
    "import matplotlib.pyplot as plt\n",
    "import numpy as np\n",
    "warnings.filterwarnings(\"ignore\")"
   ]
  },
  {
   "cell_type": "code",
   "execution_count": 2,
   "metadata": {},
   "outputs": [],
   "source": [
    "def Parse_table(url):\n",
    "    '''\n",
    "    Takes URL and returns df from URL table\n",
    "    '''\n",
    "    page = requests.get(url)\n",
    "    #Store the contents of the website under doc\n",
    "    doc = lh.fromstring(page.content)\n",
    "    #Parse data that are stored between <tr>..</tr> of HTML\n",
    "    tr_elements = doc.xpath('//tr')\n",
    "    \n",
    "    #Create empty list\n",
    "    col=[]\n",
    "    i=0\n",
    "    #For each row, store each first element (header) and an empty list\n",
    "    for t in tr_elements[0]:\n",
    "        i+=1\n",
    "        name=t.text_content()\n",
    "       # print( '%d:\"%s\"'%(i,name))\n",
    "        col.append((name,[]))\n",
    "    # number of columns of our table    \n",
    "    N_col = len(col) \n",
    "    #Since out first row is the header, data is stored on the second row onwards\n",
    "    for j in range(1,len(tr_elements)):\n",
    "        #T is our j'th row\n",
    "        T=tr_elements[j]\n",
    "    \n",
    "        #If row is not of size N_col, the //tr data is not from our table \n",
    "        if len(T)!=N_col:\n",
    "            break\n",
    "    \n",
    "        #i is the index of our column\n",
    "        k=0\n",
    "    \n",
    "        #Iterate through each element of the row\n",
    "        for t in T.iterchildren():\n",
    "            data=t.text_content() \n",
    "            #Check if row is empty\n",
    "            if k<0:\n",
    "            #Convert any numerical value to integers\n",
    "                try:\n",
    "                    data=int(data)\n",
    "                except:\n",
    "                    pass\n",
    "            #Append the data to the empty list of the i'th column\n",
    "            col[k][1].append(data)\n",
    "            #Increment i for the next column\n",
    "            k+=1\n",
    "    Dict={title:column for (title,column) in col}\n",
    "    df=pd.DataFrame(Dict)\n",
    "    df.head()\n",
    "    return df"
   ]
  },
  {
   "cell_type": "markdown",
   "metadata": {},
   "source": [
    "### Dataset"
   ]
  },
  {
   "cell_type": "markdown",
   "metadata": {},
   "source": [
    "Download the data\n",
    "\n",
    "There are three different files for: confirmed, recovered and fatal cases. "
   ]
  },
  {
   "cell_type": "code",
   "execution_count": 3,
   "metadata": {},
   "outputs": [],
   "source": [
    "url0 = 'https://raw.githubusercontent.com/CSSEGISandData/COVID-19/master/csse_covid_19_data/csse_covid_19_time_series/time_series_covid19_confirmed_global.csv'\n",
    "df_confirmed = pd.read_csv(url0, error_bad_lines=False)\n",
    "url1 = 'https://raw.githubusercontent.com/CSSEGISandData/COVID-19/master/csse_covid_19_data/csse_covid_19_time_series/time_series_covid19_recovered_global.csv'\n",
    "df_recovered = pd.read_csv(url1, error_bad_lines=False)\n",
    "url2 = 'https://raw.githubusercontent.com/CSSEGISandData/COVID-19/master/csse_covid_19_data/csse_covid_19_time_series/time_series_covid19_deaths_global.csv'\n",
    "df_deaths = pd.read_csv(url2, error_bad_lines=False)"
   ]
  },
  {
   "cell_type": "code",
   "execution_count": 4,
   "metadata": {},
   "outputs": [
    {
     "data": {
      "text/html": [
       "<div>\n",
       "<style scoped>\n",
       "    .dataframe tbody tr th:only-of-type {\n",
       "        vertical-align: middle;\n",
       "    }\n",
       "\n",
       "    .dataframe tbody tr th {\n",
       "        vertical-align: top;\n",
       "    }\n",
       "\n",
       "    .dataframe thead th {\n",
       "        text-align: right;\n",
       "    }\n",
       "</style>\n",
       "<table border=\"1\" class=\"dataframe\">\n",
       "  <thead>\n",
       "    <tr style=\"text-align: right;\">\n",
       "      <th></th>\n",
       "      <th>Province/State</th>\n",
       "      <th>Country/Region</th>\n",
       "      <th>Lat</th>\n",
       "      <th>Long</th>\n",
       "      <th>1/22/20</th>\n",
       "      <th>1/23/20</th>\n",
       "      <th>1/24/20</th>\n",
       "      <th>1/25/20</th>\n",
       "      <th>1/26/20</th>\n",
       "      <th>1/27/20</th>\n",
       "      <th>...</th>\n",
       "      <th>6/6/20</th>\n",
       "      <th>6/7/20</th>\n",
       "      <th>6/8/20</th>\n",
       "      <th>6/9/20</th>\n",
       "      <th>6/10/20</th>\n",
       "      <th>6/11/20</th>\n",
       "      <th>6/12/20</th>\n",
       "      <th>6/13/20</th>\n",
       "      <th>6/14/20</th>\n",
       "      <th>6/15/20</th>\n",
       "    </tr>\n",
       "  </thead>\n",
       "  <tbody>\n",
       "    <tr>\n",
       "      <th>0</th>\n",
       "      <td>NaN</td>\n",
       "      <td>Afghanistan</td>\n",
       "      <td>33.0000</td>\n",
       "      <td>65.0000</td>\n",
       "      <td>0</td>\n",
       "      <td>0</td>\n",
       "      <td>0</td>\n",
       "      <td>0</td>\n",
       "      <td>0</td>\n",
       "      <td>0</td>\n",
       "      <td>...</td>\n",
       "      <td>19551</td>\n",
       "      <td>20342</td>\n",
       "      <td>20917</td>\n",
       "      <td>21459</td>\n",
       "      <td>22142</td>\n",
       "      <td>22890</td>\n",
       "      <td>23546</td>\n",
       "      <td>24102</td>\n",
       "      <td>24766</td>\n",
       "      <td>25527</td>\n",
       "    </tr>\n",
       "    <tr>\n",
       "      <th>1</th>\n",
       "      <td>NaN</td>\n",
       "      <td>Albania</td>\n",
       "      <td>41.1533</td>\n",
       "      <td>20.1683</td>\n",
       "      <td>0</td>\n",
       "      <td>0</td>\n",
       "      <td>0</td>\n",
       "      <td>0</td>\n",
       "      <td>0</td>\n",
       "      <td>0</td>\n",
       "      <td>...</td>\n",
       "      <td>1232</td>\n",
       "      <td>1246</td>\n",
       "      <td>1263</td>\n",
       "      <td>1299</td>\n",
       "      <td>1341</td>\n",
       "      <td>1385</td>\n",
       "      <td>1416</td>\n",
       "      <td>1464</td>\n",
       "      <td>1521</td>\n",
       "      <td>1590</td>\n",
       "    </tr>\n",
       "    <tr>\n",
       "      <th>2</th>\n",
       "      <td>NaN</td>\n",
       "      <td>Algeria</td>\n",
       "      <td>28.0339</td>\n",
       "      <td>1.6596</td>\n",
       "      <td>0</td>\n",
       "      <td>0</td>\n",
       "      <td>0</td>\n",
       "      <td>0</td>\n",
       "      <td>0</td>\n",
       "      <td>0</td>\n",
       "      <td>...</td>\n",
       "      <td>10050</td>\n",
       "      <td>10154</td>\n",
       "      <td>10265</td>\n",
       "      <td>10382</td>\n",
       "      <td>10484</td>\n",
       "      <td>10589</td>\n",
       "      <td>10698</td>\n",
       "      <td>10810</td>\n",
       "      <td>10919</td>\n",
       "      <td>11031</td>\n",
       "    </tr>\n",
       "    <tr>\n",
       "      <th>3</th>\n",
       "      <td>NaN</td>\n",
       "      <td>Andorra</td>\n",
       "      <td>42.5063</td>\n",
       "      <td>1.5218</td>\n",
       "      <td>0</td>\n",
       "      <td>0</td>\n",
       "      <td>0</td>\n",
       "      <td>0</td>\n",
       "      <td>0</td>\n",
       "      <td>0</td>\n",
       "      <td>...</td>\n",
       "      <td>852</td>\n",
       "      <td>852</td>\n",
       "      <td>852</td>\n",
       "      <td>852</td>\n",
       "      <td>852</td>\n",
       "      <td>852</td>\n",
       "      <td>853</td>\n",
       "      <td>853</td>\n",
       "      <td>853</td>\n",
       "      <td>853</td>\n",
       "    </tr>\n",
       "    <tr>\n",
       "      <th>4</th>\n",
       "      <td>NaN</td>\n",
       "      <td>Angola</td>\n",
       "      <td>-11.2027</td>\n",
       "      <td>17.8739</td>\n",
       "      <td>0</td>\n",
       "      <td>0</td>\n",
       "      <td>0</td>\n",
       "      <td>0</td>\n",
       "      <td>0</td>\n",
       "      <td>0</td>\n",
       "      <td>...</td>\n",
       "      <td>88</td>\n",
       "      <td>91</td>\n",
       "      <td>92</td>\n",
       "      <td>96</td>\n",
       "      <td>113</td>\n",
       "      <td>118</td>\n",
       "      <td>130</td>\n",
       "      <td>138</td>\n",
       "      <td>140</td>\n",
       "      <td>142</td>\n",
       "    </tr>\n",
       "  </tbody>\n",
       "</table>\n",
       "<p>5 rows × 150 columns</p>\n",
       "</div>"
      ],
      "text/plain": [
       "  Province/State Country/Region      Lat     Long  1/22/20  1/23/20  1/24/20  \\\n",
       "0            NaN    Afghanistan  33.0000  65.0000        0        0        0   \n",
       "1            NaN        Albania  41.1533  20.1683        0        0        0   \n",
       "2            NaN        Algeria  28.0339   1.6596        0        0        0   \n",
       "3            NaN        Andorra  42.5063   1.5218        0        0        0   \n",
       "4            NaN         Angola -11.2027  17.8739        0        0        0   \n",
       "\n",
       "   1/25/20  1/26/20  1/27/20  ...  6/6/20  6/7/20  6/8/20  6/9/20  6/10/20  \\\n",
       "0        0        0        0  ...   19551   20342   20917   21459    22142   \n",
       "1        0        0        0  ...    1232    1246    1263    1299     1341   \n",
       "2        0        0        0  ...   10050   10154   10265   10382    10484   \n",
       "3        0        0        0  ...     852     852     852     852      852   \n",
       "4        0        0        0  ...      88      91      92      96      113   \n",
       "\n",
       "   6/11/20  6/12/20  6/13/20  6/14/20  6/15/20  \n",
       "0    22890    23546    24102    24766    25527  \n",
       "1     1385     1416     1464     1521     1590  \n",
       "2    10589    10698    10810    10919    11031  \n",
       "3      852      853      853      853      853  \n",
       "4      118      130      138      140      142  \n",
       "\n",
       "[5 rows x 150 columns]"
      ]
     },
     "execution_count": 4,
     "metadata": {},
     "output_type": "execute_result"
    }
   ],
   "source": [
    "df_confirmed.head()"
   ]
  },
  {
   "cell_type": "code",
   "execution_count": 5,
   "metadata": {},
   "outputs": [
    {
     "data": {
      "text/plain": [
       "Index(['Province/State', 'Country/Region', 'Lat', 'Long', '1/22/20'], dtype='object')"
      ]
     },
     "execution_count": 5,
     "metadata": {},
     "output_type": "execute_result"
    }
   ],
   "source": [
    "df_confirmed.columns[:5]"
   ]
  },
  {
   "cell_type": "markdown",
   "metadata": {},
   "source": [
    "The structure of the data is same in all three files. ['Province/State', 'Country/Region', 'Lat', 'Long', '1/22/20' ...] all the dates. The values of date columns corresponds to total number of cases. NOT datected to that date only. So the first non 0 value, correspondes the date of first confirmed case."
   ]
  },
  {
   "cell_type": "markdown",
   "metadata": {},
   "source": [
    "If we want to have fare comparison, we need to know, how many days passed after the first confirmed case, so we need the date of the first confirmed case."
   ]
  },
  {
   "cell_type": "code",
   "execution_count": 6,
   "metadata": {},
   "outputs": [],
   "source": [
    "df_confirmed['First case date'] = 0\n",
    "\n",
    "for i in range(0,len(df_confirmed)):\n",
    "    for j in range(5, len(df_confirmed.columns)):\n",
    "        if df_confirmed.iloc[i,j] !=0:\n",
    "            df_confirmed['First case date'][i]=df_confirmed.columns[j]\n",
    "            break"
   ]
  },
  {
   "cell_type": "markdown",
   "metadata": {},
   "source": [
    "### 1. Status in Georgia for 14.06.2020"
   ]
  },
  {
   "cell_type": "code",
   "execution_count": 7,
   "metadata": {},
   "outputs": [],
   "source": [
    "df_Georgia_confirmed =  df_confirmed[df_confirmed['Country/Region']=='Georgia']\n",
    "df_Georgia_recoverd =  df_recovered[df_recovered['Country/Region']=='Georgia']\n",
    "df_Georgia_fatal =  df_deaths[df_deaths['Country/Region']=='Georgia']"
   ]
  },
  {
   "cell_type": "code",
   "execution_count": 8,
   "metadata": {},
   "outputs": [
    {
     "data": {
      "text/html": [
       "<div>\n",
       "<style scoped>\n",
       "    .dataframe tbody tr th:only-of-type {\n",
       "        vertical-align: middle;\n",
       "    }\n",
       "\n",
       "    .dataframe tbody tr th {\n",
       "        vertical-align: top;\n",
       "    }\n",
       "\n",
       "    .dataframe thead th {\n",
       "        text-align: right;\n",
       "    }\n",
       "</style>\n",
       "<table border=\"1\" class=\"dataframe\">\n",
       "  <thead>\n",
       "    <tr style=\"text-align: right;\">\n",
       "      <th></th>\n",
       "      <th>Province/State</th>\n",
       "      <th>Country/Region</th>\n",
       "      <th>Lat</th>\n",
       "      <th>Long</th>\n",
       "      <th>1/22/20</th>\n",
       "      <th>1/23/20</th>\n",
       "      <th>1/24/20</th>\n",
       "      <th>1/25/20</th>\n",
       "      <th>1/26/20</th>\n",
       "      <th>1/27/20</th>\n",
       "      <th>...</th>\n",
       "      <th>6/7/20</th>\n",
       "      <th>6/8/20</th>\n",
       "      <th>6/9/20</th>\n",
       "      <th>6/10/20</th>\n",
       "      <th>6/11/20</th>\n",
       "      <th>6/12/20</th>\n",
       "      <th>6/13/20</th>\n",
       "      <th>6/14/20</th>\n",
       "      <th>6/15/20</th>\n",
       "      <th>First case date</th>\n",
       "    </tr>\n",
       "  </thead>\n",
       "  <tbody>\n",
       "    <tr>\n",
       "      <th>119</th>\n",
       "      <td>NaN</td>\n",
       "      <td>Georgia</td>\n",
       "      <td>42.3154</td>\n",
       "      <td>43.3569</td>\n",
       "      <td>0</td>\n",
       "      <td>0</td>\n",
       "      <td>0</td>\n",
       "      <td>0</td>\n",
       "      <td>0</td>\n",
       "      <td>0</td>\n",
       "      <td>...</td>\n",
       "      <td>809</td>\n",
       "      <td>812</td>\n",
       "      <td>818</td>\n",
       "      <td>827</td>\n",
       "      <td>831</td>\n",
       "      <td>843</td>\n",
       "      <td>851</td>\n",
       "      <td>864</td>\n",
       "      <td>879</td>\n",
       "      <td>2/26/20</td>\n",
       "    </tr>\n",
       "  </tbody>\n",
       "</table>\n",
       "<p>1 rows × 151 columns</p>\n",
       "</div>"
      ],
      "text/plain": [
       "    Province/State Country/Region      Lat     Long  1/22/20  1/23/20  \\\n",
       "119            NaN        Georgia  42.3154  43.3569        0        0   \n",
       "\n",
       "     1/24/20  1/25/20  1/26/20  1/27/20  ...  6/7/20  6/8/20  6/9/20  6/10/20  \\\n",
       "119        0        0        0        0  ...     809     812     818      827   \n",
       "\n",
       "     6/11/20  6/12/20  6/13/20  6/14/20  6/15/20  First case date  \n",
       "119      831      843      851      864      879          2/26/20  \n",
       "\n",
       "[1 rows x 151 columns]"
      ]
     },
     "execution_count": 8,
     "metadata": {},
     "output_type": "execute_result"
    }
   ],
   "source": [
    "df_Georgia_confirmed.head()"
   ]
  },
  {
   "cell_type": "code",
   "execution_count": 9,
   "metadata": {},
   "outputs": [],
   "source": [
    "Geo_population = 3989472\n",
    "lastindex = len(df_Georgia_recoverd.columns)-1"
   ]
  },
  {
   "cell_type": "code",
   "execution_count": 10,
   "metadata": {},
   "outputs": [
    {
     "data": {
      "text/plain": [
       "220.3299083186948"
      ]
     },
     "execution_count": 10,
     "metadata": {},
     "output_type": "execute_result"
    }
   ],
   "source": [
    "#number of infected 1M population\n",
    "df_Georgia_confirmed.iloc[0,lastindex]/Geo_population*1000000"
   ]
  },
  {
   "cell_type": "code",
   "execution_count": 11,
   "metadata": {},
   "outputs": [
    {
     "data": {
      "text/plain": [
       "704"
      ]
     },
     "execution_count": 11,
     "metadata": {},
     "output_type": "execute_result"
    }
   ],
   "source": [
    "df_Georgia_recoverd.iloc[0,lastindex]"
   ]
  },
  {
   "cell_type": "code",
   "execution_count": 12,
   "metadata": {},
   "outputs": [],
   "source": [
    "# Pie chart, where the slices will be ordered and plotted counter-clockwise:\n",
    "def drawpie(axes, labels, sizes,Title,colors):\n",
    "    '''\n",
    "    Input: axes, Title and parameters of pie chart\n",
    "    '''    \n",
    "    axes.pie(sizes, labels=labels, autopct='%1.1f%%', colors=colors,\\\n",
    "        shadow=False, wedgeprops=dict(width=0.5), startangle=90, textprops={'fontsize': 18})\n",
    "      \n",
    "    axes.axis('equal')  # Equal aspect ratio ensures that pie is drawn as a circle.\n",
    "   \n",
    "    axes.set_title(Title, fontsize=20)\n"
   ]
  },
  {
   "cell_type": "code",
   "execution_count": 13,
   "metadata": {},
   "outputs": [
    {
     "data": {
      "image/png": "[encoded data removed]",
      "text/plain": [
       "<Figure size 1296x648 with 2 Axes>"
      ]
     },
     "metadata": {},
     "output_type": "display_data"
    }
   ],
   "source": [
    "fig, axes= plt.subplots(nrows=1, ncols=2, figsize=(18,9))\n",
    "\n",
    "labels = ['Active cases', 'Fatal', 'Recovered']\n",
    "colors = ['Blue', 'Red', 'Green']   \n",
    "Active_cases = df_Georgia_confirmed.iloc[0,lastindex]-df_Georgia_fatal.iloc[0,lastindex]-df_Georgia_recoverd.iloc[0,lastindex]\n",
    "sizes_S = [Active_cases, df_Georgia_fatal.iloc[0,lastindex], df_Georgia_recoverd.iloc[0,lastindex]]\n",
    "\n",
    "drawpie(axes[0],labels,sizes_S,'Total Cases', colors)\n",
    "\n",
    "labels = [ 'Recovered','Fatal']\n",
    "colors = [ 'Green', 'Red'] \n",
    "sizes_S = [df_Georgia_recoverd.iloc[0,lastindex], df_Georgia_fatal.iloc[0,lastindex]]\n",
    "\n",
    "drawpie(axes[1],labels,sizes_S,'Closed Cases',colors)"
   ]
  },
  {
   "cell_type": "markdown",
   "metadata": {},
   "source": [
    "In Georgia Covid 19 first time was confirmed in 26 of February, 2020. Since then passed 110 days. 864 confirmed cases, 216.5 on 1M population. During this time 703 and 14 passed away that is 2% of closed cases."
   ]
  },
  {
   "cell_type": "markdown",
   "metadata": {},
   "source": [
    "### Dinamic changes in time"
   ]
  },
  {
   "cell_type": "code",
   "execution_count": 14,
   "metadata": {},
   "outputs": [
    {
     "data": {
      "image/png": "[encoded data removed]",
      "text/plain": [
       "<Figure size 1296x648 with 2 Axes>"
      ]
     },
     "metadata": {
      "needs_background": "light"
     },
     "output_type": "display_data"
    }
   ],
   "source": [
    "ind = np.arange(df_Georgia_recoverd.iloc[:,39:149].shape[1])\n",
    "fig, axes= plt.subplots(nrows=1, ncols=2, figsize=(18,9))\n",
    "\n",
    "axes[0].bar(ind,df_Georgia_confirmed.iloc[0,39:149]-df_Georgia_recoverd.iloc[0,39:149]-df_Georgia_fatal.iloc[0,39:149])\n",
    "axes[0].set_ylabel('N_cases', fontsize=18)\n",
    "axes[0].set_xlabel('N_days', fontsize=18)\n",
    "axes[0].set_title('Active cases distribution in time',  fontsize=20)\n",
    "\n",
    "axes[1].bar(ind, df_Georgia_confirmed.iloc[0,39:149])\n",
    "axes[1].bar(ind, df_Georgia_recoverd.iloc[0,39:149],color='green')\n",
    "axes[1].bar(ind, df_Georgia_fatal.iloc[0,39:149],color='red')\n",
    "axes[1].set_ylabel('N_cases', fontsize=18)\n",
    "axes[1].set_xlabel('N_days', fontsize=18)\n",
    "plt.title('All cases distribution in time',  fontsize=20)\n",
    "plt.show()"
   ]
  },
  {
   "cell_type": "markdown",
   "metadata": {},
   "source": [
    "The peak of the active cases was during 50th and 80th days but lethal cases didn’t increased in this period. It should be mentioned that maximum number of active cases 361."
   ]
  },
  {
   "cell_type": "markdown",
   "metadata": {},
   "source": [
    "### Comparisons"
   ]
  },
  {
   "cell_type": "code",
   "execution_count": 15,
   "metadata": {},
   "outputs": [],
   "source": [
    "rank= [1, 2, 3, 4, 6, 14, 15, 18, 24, 34, 35, 36, 37, 38, 39] #ranking number from Forbes\n",
    "\n",
    "population =[ 8651801, 83772567, 9197590, 5848278, 9004150, 5419340, 5791333, 9661322,\\\n",
    "              5540362, 10425009, 1326498, 4106223, 84296986, 4935217, 3989472 ]  #population from WHO\n",
    "\n",
    "countries = [ 'Switzerland','Germany', 'Israel', 'Singapore', 'Austria', 'Norway',\\\n",
    "              'Denmark', 'Hungary', 'Finland', 'Greece', 'Estonia', 'Croatia', 'Turkey', 'Ireland', 'Georgia']\n"
   ]
  },
  {
   "cell_type": "code",
   "execution_count": 16,
   "metadata": {},
   "outputs": [],
   "source": [
    "df = pd.DataFrame(index=range(0,len(rank))) #create a dataframe"
   ]
  },
  {
   "cell_type": "code",
   "execution_count": 17,
   "metadata": {},
   "outputs": [],
   "source": [
    "df['rank']=rank\n",
    "df['countries']=countries\n",
    "df['population']=population\n",
    "\n",
    "# date of first confirmed case\n",
    "df['firstdate']=0\n",
    "\n",
    "# number of confirmed cases for 14.06.2020\n",
    "df['totalcases'] =0\n",
    "\n",
    "# number of recovered cases\n",
    "df['recoverd'] =0\n",
    "\n",
    "## number of fatal cases\n",
    "df['fatal'] =0"
   ]
  },
  {
   "cell_type": "code",
   "execution_count": 18,
   "metadata": {},
   "outputs": [],
   "source": [
    "datecolindex = len(df_confirmed.columns)-1"
   ]
  },
  {
   "cell_type": "code",
   "execution_count": 19,
   "metadata": {},
   "outputs": [
    {
     "name": "stdout",
     "output_type": "stream",
     "text": [
      "2/25/20\n",
      "1/27/20\n",
      "2/21/20\n",
      "1/23/20\n",
      "2/25/20\n",
      "2/26/20\n",
      "2/27/20\n",
      "3/4/20\n",
      "1/29/20\n",
      "2/26/20\n",
      "2/27/20\n",
      "2/25/20\n",
      "3/11/20\n",
      "2/29/20\n",
      "2/26/20\n"
     ]
    }
   ],
   "source": [
    "for i in range(0,len(rank)):\n",
    "    \n",
    "    # In Denmark case there are three entries in the dataset. we need last one only, rest two is included in last \n",
    "    \n",
    "    df_c = df_confirmed[df_confirmed['Country/Region']==df.countries.iloc[i]].drop_duplicates(['Country/Region'], keep='last')\n",
    "    print(df_c.iloc[0,datecolindex])\n",
    "    df.firstdate.iloc[i] = df_c.iloc[0,datecolindex]\n",
    "    df.totalcases.iloc[i] = df_c.iloc[0,datecolindex-1]\n",
    "    df.recoverd.iloc[i] =df_recovered[df_recovered['Country/Region']==df.countries.iloc[i]].drop_duplicates(['Country/Region'], keep='last').iloc[0,datecolindex-1]\n",
    "    df.fatal.iloc[i] =df_deaths[df_deaths['Country/Region']==df.countries.iloc[i]].drop_duplicates(['Country/Region'], keep='last').iloc[0,datecolindex-1]"
   ]
  },
  {
   "cell_type": "code",
   "execution_count": 20,
   "metadata": {},
   "outputs": [],
   "source": [
    "N_days = [109, 140, 105, 144, 111, 110, 109, 75, 138, 110, 109, 111, 97, 108, 110] # number of days after first confirmed case"
   ]
  },
  {
   "cell_type": "code",
   "execution_count": 21,
   "metadata": {},
   "outputs": [],
   "source": [
    "df['N_days']=N_days"
   ]
  },
  {
   "cell_type": "code",
   "execution_count": 22,
   "metadata": {},
   "outputs": [
    {
     "data": {
      "text/html": [
       "<div>\n",
       "<style scoped>\n",
       "    .dataframe tbody tr th:only-of-type {\n",
       "        vertical-align: middle;\n",
       "    }\n",
       "\n",
       "    .dataframe tbody tr th {\n",
       "        vertical-align: top;\n",
       "    }\n",
       "\n",
       "    .dataframe thead th {\n",
       "        text-align: right;\n",
       "    }\n",
       "</style>\n",
       "<table border=\"1\" class=\"dataframe\">\n",
       "  <thead>\n",
       "    <tr style=\"text-align: right;\">\n",
       "      <th></th>\n",
       "      <th>rank</th>\n",
       "      <th>countries</th>\n",
       "      <th>population</th>\n",
       "      <th>firstdate</th>\n",
       "      <th>totalcases</th>\n",
       "      <th>recoverd</th>\n",
       "      <th>fatal</th>\n",
       "      <th>N_days</th>\n",
       "    </tr>\n",
       "  </thead>\n",
       "  <tbody>\n",
       "    <tr>\n",
       "      <th>0</th>\n",
       "      <td>1</td>\n",
       "      <td>Switzerland</td>\n",
       "      <td>8651801</td>\n",
       "      <td>2/25/20</td>\n",
       "      <td>31131</td>\n",
       "      <td>28900</td>\n",
       "      <td>1939</td>\n",
       "      <td>109</td>\n",
       "    </tr>\n",
       "    <tr>\n",
       "      <th>1</th>\n",
       "      <td>2</td>\n",
       "      <td>Germany</td>\n",
       "      <td>83772567</td>\n",
       "      <td>1/27/20</td>\n",
       "      <td>187682</td>\n",
       "      <td>172692</td>\n",
       "      <td>8807</td>\n",
       "      <td>140</td>\n",
       "    </tr>\n",
       "    <tr>\n",
       "      <th>2</th>\n",
       "      <td>3</td>\n",
       "      <td>Israel</td>\n",
       "      <td>9197590</td>\n",
       "      <td>2/21/20</td>\n",
       "      <td>19237</td>\n",
       "      <td>15415</td>\n",
       "      <td>302</td>\n",
       "      <td>105</td>\n",
       "    </tr>\n",
       "    <tr>\n",
       "      <th>3</th>\n",
       "      <td>4</td>\n",
       "      <td>Singapore</td>\n",
       "      <td>5848278</td>\n",
       "      <td>1/23/20</td>\n",
       "      <td>40818</td>\n",
       "      <td>30366</td>\n",
       "      <td>26</td>\n",
       "      <td>144</td>\n",
       "    </tr>\n",
       "    <tr>\n",
       "      <th>4</th>\n",
       "      <td>6</td>\n",
       "      <td>Austria</td>\n",
       "      <td>9004150</td>\n",
       "      <td>2/25/20</td>\n",
       "      <td>17135</td>\n",
       "      <td>16066</td>\n",
       "      <td>678</td>\n",
       "      <td>111</td>\n",
       "    </tr>\n",
       "    <tr>\n",
       "      <th>5</th>\n",
       "      <td>14</td>\n",
       "      <td>Norway</td>\n",
       "      <td>5419340</td>\n",
       "      <td>2/26/20</td>\n",
       "      <td>8647</td>\n",
       "      <td>8138</td>\n",
       "      <td>242</td>\n",
       "      <td>110</td>\n",
       "    </tr>\n",
       "    <tr>\n",
       "      <th>6</th>\n",
       "      <td>15</td>\n",
       "      <td>Denmark</td>\n",
       "      <td>5791333</td>\n",
       "      <td>2/27/20</td>\n",
       "      <td>12217</td>\n",
       "      <td>11090</td>\n",
       "      <td>598</td>\n",
       "      <td>109</td>\n",
       "    </tr>\n",
       "    <tr>\n",
       "      <th>7</th>\n",
       "      <td>18</td>\n",
       "      <td>Hungary</td>\n",
       "      <td>9661322</td>\n",
       "      <td>3/4/20</td>\n",
       "      <td>4076</td>\n",
       "      <td>2485</td>\n",
       "      <td>563</td>\n",
       "      <td>75</td>\n",
       "    </tr>\n",
       "    <tr>\n",
       "      <th>8</th>\n",
       "      <td>24</td>\n",
       "      <td>Finland</td>\n",
       "      <td>5540362</td>\n",
       "      <td>1/29/20</td>\n",
       "      <td>7108</td>\n",
       "      <td>6200</td>\n",
       "      <td>326</td>\n",
       "      <td>138</td>\n",
       "    </tr>\n",
       "    <tr>\n",
       "      <th>9</th>\n",
       "      <td>34</td>\n",
       "      <td>Greece</td>\n",
       "      <td>10425009</td>\n",
       "      <td>2/26/20</td>\n",
       "      <td>3134</td>\n",
       "      <td>1374</td>\n",
       "      <td>184</td>\n",
       "      <td>110</td>\n",
       "    </tr>\n",
       "    <tr>\n",
       "      <th>10</th>\n",
       "      <td>35</td>\n",
       "      <td>Estonia</td>\n",
       "      <td>1326498</td>\n",
       "      <td>2/27/20</td>\n",
       "      <td>1974</td>\n",
       "      <td>1717</td>\n",
       "      <td>69</td>\n",
       "      <td>109</td>\n",
       "    </tr>\n",
       "    <tr>\n",
       "      <th>11</th>\n",
       "      <td>36</td>\n",
       "      <td>Croatia</td>\n",
       "      <td>4106223</td>\n",
       "      <td>2/25/20</td>\n",
       "      <td>2254</td>\n",
       "      <td>2140</td>\n",
       "      <td>107</td>\n",
       "      <td>111</td>\n",
       "    </tr>\n",
       "    <tr>\n",
       "      <th>12</th>\n",
       "      <td>37</td>\n",
       "      <td>Turkey</td>\n",
       "      <td>84296986</td>\n",
       "      <td>3/11/20</td>\n",
       "      <td>179831</td>\n",
       "      <td>152364</td>\n",
       "      <td>4825</td>\n",
       "      <td>97</td>\n",
       "    </tr>\n",
       "    <tr>\n",
       "      <th>13</th>\n",
       "      <td>38</td>\n",
       "      <td>Ireland</td>\n",
       "      <td>4935217</td>\n",
       "      <td>2/29/20</td>\n",
       "      <td>25321</td>\n",
       "      <td>22698</td>\n",
       "      <td>1706</td>\n",
       "      <td>108</td>\n",
       "    </tr>\n",
       "    <tr>\n",
       "      <th>14</th>\n",
       "      <td>39</td>\n",
       "      <td>Georgia</td>\n",
       "      <td>3989472</td>\n",
       "      <td>2/26/20</td>\n",
       "      <td>879</td>\n",
       "      <td>704</td>\n",
       "      <td>14</td>\n",
       "      <td>110</td>\n",
       "    </tr>\n",
       "  </tbody>\n",
       "</table>\n",
       "</div>"
      ],
      "text/plain": [
       "    rank    countries  population firstdate  totalcases  recoverd  fatal  \\\n",
       "0      1  Switzerland     8651801   2/25/20       31131     28900   1939   \n",
       "1      2      Germany    83772567   1/27/20      187682    172692   8807   \n",
       "2      3       Israel     9197590   2/21/20       19237     15415    302   \n",
       "3      4    Singapore     5848278   1/23/20       40818     30366     26   \n",
       "4      6      Austria     9004150   2/25/20       17135     16066    678   \n",
       "5     14       Norway     5419340   2/26/20        8647      8138    242   \n",
       "6     15      Denmark     5791333   2/27/20       12217     11090    598   \n",
       "7     18      Hungary     9661322    3/4/20        4076      2485    563   \n",
       "8     24      Finland     5540362   1/29/20        7108      6200    326   \n",
       "9     34       Greece    10425009   2/26/20        3134      1374    184   \n",
       "10    35      Estonia     1326498   2/27/20        1974      1717     69   \n",
       "11    36      Croatia     4106223   2/25/20        2254      2140    107   \n",
       "12    37       Turkey    84296986   3/11/20      179831    152364   4825   \n",
       "13    38      Ireland     4935217   2/29/20       25321     22698   1706   \n",
       "14    39      Georgia     3989472   2/26/20         879       704     14   \n",
       "\n",
       "    N_days  \n",
       "0      109  \n",
       "1      140  \n",
       "2      105  \n",
       "3      144  \n",
       "4      111  \n",
       "5      110  \n",
       "6      109  \n",
       "7       75  \n",
       "8      138  \n",
       "9      110  \n",
       "10     109  \n",
       "11     111  \n",
       "12      97  \n",
       "13     108  \n",
       "14     110  "
      ]
     },
     "execution_count": 22,
     "metadata": {},
     "output_type": "execute_result"
    }
   ],
   "source": [
    "df.head(15)"
   ]
  },
  {
   "cell_type": "code",
   "execution_count": 23,
   "metadata": {},
   "outputs": [],
   "source": [
    "df['Cases1M_pop']=0 # number of total cases for 1M population\n",
    "\n",
    "df['activeCases1M_pop']=0 #number of active cases for 1M population\n",
    "\n",
    "df['Fatalyty']=0 # percentage of fatal cases in closec cases, that is defined as recoverec+fatal \n",
    "\n",
    "df['Fatalytytotot']=0 # percentage of fatal cases in total cases\n",
    "\n",
    "df['totalclosed']=0 #the ratio of closed cases over total cases\n",
    "\n",
    "for i in range(0,len(df)):\n",
    "    \n",
    "    df.activeCases1M_pop.iloc[i] = (df.totalcases.iloc[i]-df.recoverd.iloc[i]-df.fatal.iloc[i])/df.population.iloc[i]*1000000\n",
    "    df.Cases1M_pop.iloc[i] = df.totalcases.iloc[i]/df.population.iloc[i]*1000000\n",
    "    df.Fatalyty.iloc[i] = df.fatal.iloc[i]/(df.recoverd.iloc[i]+df.fatal.iloc[i])*100\n",
    "    df.Fatalytytotot.iloc[i] = df.fatal.iloc[i]/(df.totalcases.iloc[i])*100\n",
    "    df.totalclosed.iloc[i] = 1- df.activeCases1M_pop.iloc[i]/df.Cases1M_pop.iloc[i]"
   ]
  },
  {
   "cell_type": "markdown",
   "metadata": {},
   "source": [
    "below are ranking plots, sorted by variable of rank"
   ]
  },
  {
   "cell_type": "code",
   "execution_count": 24,
   "metadata": {},
   "outputs": [
    {
     "data": {
      "image/png": "[encoded data removed]",
      "text/plain": [
       "<Figure size 648x324 with 1 Axes>"
      ]
     },
     "metadata": {
      "needs_background": "light"
     },
     "output_type": "display_data"
    }
   ],
   "source": [
    "df =df.sort_values(by ='Cases1M_pop')\n",
    "\n",
    "indexes = list(df.countries)\n",
    "objects = (indexes[0], indexes[1], indexes[2], indexes[3], indexes[4], indexes[5], indexes[6], indexes[7],\\\n",
    "           indexes[8], indexes[9], indexes[10], indexes[11], indexes[12], indexes[13], indexes[14])\n",
    "y_pos = np.arange(len(objects))\n",
    "performance = df.Cases1M_pop\n",
    "\n",
    "fig = plt.subplots( figsize=(9,4.5))\n",
    "plt.bar(y_pos, performance, align='center', alpha=0.5)\n",
    "plt.xticks(y_pos, objects, rotation=90)\n",
    "plt.ylabel('N_cases', fontsize =20)\n",
    "plt.title('ToTal cases on 1M population', fontsize =20)\n",
    "\n",
    "plt.show()\n"
   ]
  },
  {
   "cell_type": "code",
   "execution_count": 25,
   "metadata": {},
   "outputs": [
    {
     "data": {
      "image/png": "[encoded data removed]",
      "text/plain": [
       "<Figure size 648x324 with 1 Axes>"
      ]
     },
     "metadata": {
      "needs_background": "light"
     },
     "output_type": "display_data"
    }
   ],
   "source": [
    "df =df.sort_values(by ='activeCases1M_pop')\n",
    "\n",
    "indexes = list(df.countries)\n",
    "objects = (indexes[0], indexes[1], indexes[2], indexes[3], indexes[4], indexes[5], indexes[6], indexes[7],\\\n",
    "           indexes[8], indexes[9], indexes[10], indexes[11], indexes[12], indexes[13], indexes[14])\n",
    "y_pos = np.arange(len(objects))\n",
    "performance = df.activeCases1M_pop\n",
    "\n",
    "fig = plt.subplots( figsize=(9,4.5))\n",
    "plt.bar(y_pos, performance, align='center', alpha=0.5, color = 'blue')\n",
    "plt.xticks(y_pos, objects, rotation=90)\n",
    "plt.ylabel('N_cases', fontsize =20)\n",
    "plt.title('Active cases on 1M population', fontsize =20)\n",
    "\n",
    "plt.show()"
   ]
  },
  {
   "cell_type": "code",
   "execution_count": 26,
   "metadata": {},
   "outputs": [
    {
     "data": {
      "image/png": "[encoded data removed]",
      "text/plain": [
       "<Figure size 648x324 with 1 Axes>"
      ]
     },
     "metadata": {
      "needs_background": "light"
     },
     "output_type": "display_data"
    }
   ],
   "source": [
    "df =df.sort_values(by ='totalclosed')\n",
    "\n",
    "indexes = list(df.countries)\n",
    "objects = (indexes[0], indexes[1], indexes[2], indexes[3], indexes[4], indexes[5], indexes[6], indexes[7],\\\n",
    "           indexes[8], indexes[9], indexes[10], indexes[11], indexes[12], indexes[13], indexes[14])\n",
    "y_pos = np.arange(len(objects))\n",
    "performance = df.totalclosed\n",
    "\n",
    "fig = plt.subplots( figsize=(9,4.5))\n",
    "plt.bar(y_pos, performance, align='center', alpha=0.5, color = 'seagreen')\n",
    "plt.xticks(y_pos, objects, rotation=90)\n",
    "plt.ylabel('ratio', fontsize =20)\n",
    "plt.title('Ratio of closed cases over total confirmed', fontsize =20)\n",
    "\n",
    "plt.show()\n"
   ]
  },
  {
   "cell_type": "code",
   "execution_count": 27,
   "metadata": {},
   "outputs": [
    {
     "data": {
      "image/png": "[encoded data removed]",
      "text/plain": [
       "<Figure size 648x324 with 1 Axes>"
      ]
     },
     "metadata": {
      "needs_background": "light"
     },
     "output_type": "display_data"
    }
   ],
   "source": [
    "df =df.sort_values(by ='Fatalyty')\n",
    "\n",
    "indexes = list(df.countries)\n",
    "objects = (indexes[0], indexes[1], indexes[2], indexes[3], indexes[4], indexes[5], indexes[6], indexes[7],\\\n",
    "           indexes[8], indexes[9], indexes[10], indexes[11], indexes[12], indexes[13], indexes[14])\n",
    "y_pos = np.arange(len(objects))\n",
    "performance = df.Fatalyty\n",
    "\n",
    "fig = plt.subplots( figsize=(9,4.5))\n",
    "plt.bar(y_pos, performance, align='center', alpha=0.5, color = 'red')\n",
    "plt.xticks(y_pos, objects, rotation=90)\n",
    "plt.ylabel('%', fontsize =20)\n",
    "plt.title('Fatal cases in closed cases, measured in %', fontsize =20)\n",
    "\n",
    "plt.show()"
   ]
  },
  {
   "cell_type": "markdown",
   "metadata": {},
   "source": [
    "### conclusion"
   ]
  },
  {
   "cell_type": "markdown",
   "metadata": {},
   "source": [
    "As seen from plots, total cases in Georgia on 1M population is the least, also in some countries active cases are left more, also death rate is much more than in Georgia, but still these countries have better position in Frobes ranking. The Leaders are Switzerland and Germany.\n",
    "\n",
    "One of the reasons could be the few number total cases. Also health care system and economic situation will be the strongest factors to create this kind of rankings. Overall in fighting against Covid 19, Georgia is in a good track as shown above."
   ]
  }
 ],
 "metadata": {
  "kernelspec": {
   "display_name": "Python 3",
   "language": "python",
   "name": "python3"
  },
  "language_info": {
   "codemirror_mode": {
    "name": "ipython",
    "version": 3
   },
   "file_extension": ".py",
   "mimetype": "text/x-python",
   "name": "python",
   "nbconvert_exporter": "python",
   "pygments_lexer": "ipython3",
   "version": "3.7.6"
  }
 },
 "nbformat": 4,
 "nbformat_minor": 4
}
